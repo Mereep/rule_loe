{
 "cells": [
  {
   "cell_type": "code",
   "execution_count": 28,
   "id": "initial_id",
   "metadata": {
    "collapsed": true,
    "ExecuteTime": {
     "end_time": "2024-03-17T22:58:53.643185Z",
     "start_time": "2024-03-17T22:58:53.621907Z"
    }
   },
   "outputs": [],
   "source": [
    "import pandas as pd\n",
    "\n",
    "from pathlib import Path\n",
    "from sklearn.model_selection import train_test_split\n",
    "# you will have to have the following in your path (see README.md and navigate to the related repos)\n",
    "from loe import LoE\n",
    "from hdtree import HDTreeClassifier, FixedValueSplit, TenQuantileSplit, TenQuantileRangeSplit, TwentyQuantileSplit, \\\n",
    "    SmallerThanSplit, TwentyQuantileRangeSplit, GiniMeasure\n",
    "import logging\n",
    "from rule_loe import RuleLoE\n",
    "from sklearn.metrics import classification_report\n",
    "import matplotlib.pyplot as plt\n",
    "\n",
    "%matplotlib inline"
   ]
  },
  {
   "cell_type": "code",
   "outputs": [],
   "source": [
    "logging.basicConfig(level=logging.INFO)"
   ],
   "metadata": {
    "collapsed": false,
    "ExecuteTime": {
     "end_time": "2024-03-17T22:58:55.315918Z",
     "start_time": "2024-03-17T22:58:55.311818Z"
    }
   },
   "id": "f0991a41cb791d42",
   "execution_count": 29
  },
  {
   "cell_type": "markdown",
   "source": [
    "## Example UCI Cancer data set\n",
    "2 class problem to distinguish malignant from benign tumors given some metrics of the tumor cells"
   ],
   "metadata": {
    "collapsed": false
   },
   "id": "9caf3975a922e1b6"
  },
  {
   "cell_type": "code",
   "outputs": [],
   "source": [
    "df_cancer = pd.read_csv(Path('datasets', 'uci_cancer.csv'))"
   ],
   "metadata": {
    "collapsed": false,
    "ExecuteTime": {
     "end_time": "2024-03-17T22:58:57.082037Z",
     "start_time": "2024-03-17T22:58:57.070395Z"
    }
   },
   "id": "7333448bbbbf4470",
   "execution_count": 30
  },
  {
   "cell_type": "code",
   "outputs": [
    {
     "data": {
      "text/plain": "   mean radius  mean texture  mean perimeter  mean area  mean smoothness  \\\n0        17.99         10.38          122.80     1001.0          0.11840   \n1        20.57         17.77          132.90     1326.0          0.08474   \n2        19.69         21.25          130.00     1203.0          0.10960   \n3        11.42         20.38           77.58      386.1          0.14250   \n4        20.29         14.34          135.10     1297.0          0.10030   \n\n   mean compactness  mean concavity  mean concave points  mean symmetry  \\\n0           0.27760          0.3001              0.14710         0.2419   \n1           0.07864          0.0869              0.07017         0.1812   \n2           0.15990          0.1974              0.12790         0.2069   \n3           0.28390          0.2414              0.10520         0.2597   \n4           0.13280          0.1980              0.10430         0.1809   \n\n   mean fractal dimension  ...  worst texture  worst perimeter  worst area  \\\n0                 0.07871  ...          17.33           184.60      2019.0   \n1                 0.05667  ...          23.41           158.80      1956.0   \n2                 0.05999  ...          25.53           152.50      1709.0   \n3                 0.09744  ...          26.50            98.87       567.7   \n4                 0.05883  ...          16.67           152.20      1575.0   \n\n   worst smoothness  worst compactness  worst concavity  worst concave points  \\\n0            0.1622             0.6656           0.7119                0.2654   \n1            0.1238             0.1866           0.2416                0.1860   \n2            0.1444             0.4245           0.4504                0.2430   \n3            0.2098             0.8663           0.6869                0.2575   \n4            0.1374             0.2050           0.4000                0.1625   \n\n   worst symmetry  worst fractal dimension     target  \n0          0.4601                  0.11890  malignant  \n1          0.2750                  0.08902  malignant  \n2          0.3613                  0.08758  malignant  \n3          0.6638                  0.17300  malignant  \n4          0.2364                  0.07678  malignant  \n\n[5 rows x 31 columns]",
      "text/html": "<div>\n<style scoped>\n    .dataframe tbody tr th:only-of-type {\n        vertical-align: middle;\n    }\n\n    .dataframe tbody tr th {\n        vertical-align: top;\n    }\n\n    .dataframe thead th {\n        text-align: right;\n    }\n</style>\n<table border=\"1\" class=\"dataframe\">\n  <thead>\n    <tr style=\"text-align: right;\">\n      <th></th>\n      <th>mean radius</th>\n      <th>mean texture</th>\n      <th>mean perimeter</th>\n      <th>mean area</th>\n      <th>mean smoothness</th>\n      <th>mean compactness</th>\n      <th>mean concavity</th>\n      <th>mean concave points</th>\n      <th>mean symmetry</th>\n      <th>mean fractal dimension</th>\n      <th>...</th>\n      <th>worst texture</th>\n      <th>worst perimeter</th>\n      <th>worst area</th>\n      <th>worst smoothness</th>\n      <th>worst compactness</th>\n      <th>worst concavity</th>\n      <th>worst concave points</th>\n      <th>worst symmetry</th>\n      <th>worst fractal dimension</th>\n      <th>target</th>\n    </tr>\n  </thead>\n  <tbody>\n    <tr>\n      <th>0</th>\n      <td>17.99</td>\n      <td>10.38</td>\n      <td>122.80</td>\n      <td>1001.0</td>\n      <td>0.11840</td>\n      <td>0.27760</td>\n      <td>0.3001</td>\n      <td>0.14710</td>\n      <td>0.2419</td>\n      <td>0.07871</td>\n      <td>...</td>\n      <td>17.33</td>\n      <td>184.60</td>\n      <td>2019.0</td>\n      <td>0.1622</td>\n      <td>0.6656</td>\n      <td>0.7119</td>\n      <td>0.2654</td>\n      <td>0.4601</td>\n      <td>0.11890</td>\n      <td>malignant</td>\n    </tr>\n    <tr>\n      <th>1</th>\n      <td>20.57</td>\n      <td>17.77</td>\n      <td>132.90</td>\n      <td>1326.0</td>\n      <td>0.08474</td>\n      <td>0.07864</td>\n      <td>0.0869</td>\n      <td>0.07017</td>\n      <td>0.1812</td>\n      <td>0.05667</td>\n      <td>...</td>\n      <td>23.41</td>\n      <td>158.80</td>\n      <td>1956.0</td>\n      <td>0.1238</td>\n      <td>0.1866</td>\n      <td>0.2416</td>\n      <td>0.1860</td>\n      <td>0.2750</td>\n      <td>0.08902</td>\n      <td>malignant</td>\n    </tr>\n    <tr>\n      <th>2</th>\n      <td>19.69</td>\n      <td>21.25</td>\n      <td>130.00</td>\n      <td>1203.0</td>\n      <td>0.10960</td>\n      <td>0.15990</td>\n      <td>0.1974</td>\n      <td>0.12790</td>\n      <td>0.2069</td>\n      <td>0.05999</td>\n      <td>...</td>\n      <td>25.53</td>\n      <td>152.50</td>\n      <td>1709.0</td>\n      <td>0.1444</td>\n      <td>0.4245</td>\n      <td>0.4504</td>\n      <td>0.2430</td>\n      <td>0.3613</td>\n      <td>0.08758</td>\n      <td>malignant</td>\n    </tr>\n    <tr>\n      <th>3</th>\n      <td>11.42</td>\n      <td>20.38</td>\n      <td>77.58</td>\n      <td>386.1</td>\n      <td>0.14250</td>\n      <td>0.28390</td>\n      <td>0.2414</td>\n      <td>0.10520</td>\n      <td>0.2597</td>\n      <td>0.09744</td>\n      <td>...</td>\n      <td>26.50</td>\n      <td>98.87</td>\n      <td>567.7</td>\n      <td>0.2098</td>\n      <td>0.8663</td>\n      <td>0.6869</td>\n      <td>0.2575</td>\n      <td>0.6638</td>\n      <td>0.17300</td>\n      <td>malignant</td>\n    </tr>\n    <tr>\n      <th>4</th>\n      <td>20.29</td>\n      <td>14.34</td>\n      <td>135.10</td>\n      <td>1297.0</td>\n      <td>0.10030</td>\n      <td>0.13280</td>\n      <td>0.1980</td>\n      <td>0.10430</td>\n      <td>0.1809</td>\n      <td>0.05883</td>\n      <td>...</td>\n      <td>16.67</td>\n      <td>152.20</td>\n      <td>1575.0</td>\n      <td>0.1374</td>\n      <td>0.2050</td>\n      <td>0.4000</td>\n      <td>0.1625</td>\n      <td>0.2364</td>\n      <td>0.07678</td>\n      <td>malignant</td>\n    </tr>\n  </tbody>\n</table>\n<p>5 rows × 31 columns</p>\n</div>"
     },
     "execution_count": 31,
     "metadata": {},
     "output_type": "execute_result"
    }
   ],
   "source": [
    "df_cancer.head()"
   ],
   "metadata": {
    "collapsed": false,
    "ExecuteTime": {
     "end_time": "2024-03-17T22:58:57.492212Z",
     "start_time": "2024-03-17T22:58:57.460864Z"
    }
   },
   "id": "ca39478a899ccc28",
   "execution_count": 31
  },
  {
   "cell_type": "code",
   "outputs": [
    {
     "data": {
      "text/plain": "(455, 114)"
     },
     "execution_count": 32,
     "metadata": {},
     "output_type": "execute_result"
    }
   ],
   "source": [
    "# typical train / test split\n",
    "X_train, X_test, y_train, y_test = train_test_split(df_cancer.iloc[:, :-1], df_cancer.iloc[:, -1], test_size=0.2,\n",
    "                                                    random_state=42)\n",
    "\n",
    "len(X_train), len(X_test)\n"
   ],
   "metadata": {
    "collapsed": false,
    "ExecuteTime": {
     "end_time": "2024-03-17T22:58:59.367733Z",
     "start_time": "2024-03-17T22:58:59.355724Z"
    }
   },
   "id": "5315573a1a04f989",
   "execution_count": 32
  },
  {
   "cell_type": "code",
   "outputs": [],
   "source": [
    "# base models (for RuleGoN those have to be HDTrees)\n",
    "trees_cancer = [HDTreeClassifier(allowed_splits=[  # SmallerThanSplit,\n",
    "\n",
    "        # Splits (Rules) of HDTree can have restriction (e.g. at which levels they may occur)\n",
    "        TenQuantileRangeSplit.build_with_restrictions(max_level=1),\n",
    "        TenQuantileSplit.build_with_restrictions(max_level=0),\n",
    "        TwentyQuantileRangeSplit.build_with_restrictions(min_level=1),\n",
    "        TwentyQuantileSplit.build_with_restrictions(min_level=1),\n",
    "\n",
    "        # Beware: this split is O(n^2 --> slow.)\n",
    "        SmallerThanSplit.build_with_restrictions(min_level=1),\n",
    "    ],\n",
    "\n",
    "    # we need the model to know the attribute names\n",
    "    attribute_names=df_cancer.columns[:-1],\n",
    "\n",
    "    # some general parameters\n",
    "    min_samples_at_leaf=5,\n",
    "\n",
    "    # how the goodness-of-split is calculated\n",
    "    information_measure=GiniMeasure(),\n",
    "\n",
    "    # differrent amount of levels for each tree (for illustration)\n",
    "    max_levels=i,\n",
    "    verbose=False\n",
    "    )\n",
    "    \n",
    "    # 4 models here\n",
    "    for i in range(4)\n",
    "]"
   ],
   "metadata": {
    "collapsed": false,
    "ExecuteTime": {
     "end_time": "2024-03-17T23:00:09.274781Z",
     "start_time": "2024-03-17T23:00:09.258606Z"
    }
   },
   "id": "c21c4cb8c1ec4d63",
   "execution_count": 33
  },
  {
   "cell_type": "code",
   "outputs": [],
   "source": [
    "loe = LoE(\n",
    "    # the experts\n",
    "    pool_classifiers=trees_cancer,\n",
    "\n",
    "    # initial step size for movements\n",
    "    step_size=2,\n",
    "\n",
    "    # number of runs\n",
    "    iterations=20,\n",
    "\n",
    "    # you can evaluate performance partly on some not seen data to the model while  training (will be mixed into the train data for performance measure only)\n",
    "    # val_perc=0.1,\n",
    "\n",
    "    # will be used for moving the models (will be extracted as disjunct set from the training data) \n",
    "    DSEL_perc=0.3,\n",
    "\n",
    ")"
   ],
   "metadata": {
    "collapsed": false,
    "ExecuteTime": {
     "end_time": "2024-03-17T23:00:14.278436Z",
     "start_time": "2024-03-17T23:00:14.268772Z"
    }
   },
   "id": "d7e05abb8cd35691",
   "execution_count": 34
  },
  {
   "cell_type": "code",
   "outputs": [
    {
     "name": "stderr",
     "output_type": "stream",
     "text": [
      "INFO:LoE:Start performance: 0.916\n",
      "\n",
      "INFO:LoE:Performing round 0\n",
      "INFO:LoE:Current step size: 2.000\n",
      "INFO:LoE:Performance: 0.941\n",
      "INFO:LoE:Performance increase by 0.024\n",
      "INFO:LoE:Round took 5.713 seconds\n",
      "\n",
      "INFO:LoE:Performing round 1\n",
      "INFO:LoE:Current step size: 1.900\n",
      "INFO:LoE:Performance: 0.965\n",
      "INFO:LoE:Performance increase by 0.024\n",
      "INFO:LoE:Round took 15.833 seconds\n",
      "\n",
      "INFO:LoE:Performing round 2\n",
      "INFO:LoE:Current step size: 1.800\n",
      "INFO:LoE:Performance: 0.963\n",
      "INFO:LoE:Round took 12.947 seconds\n",
      "\n",
      "INFO:LoE:Performing round 3\n",
      "INFO:LoE:Current step size: 1.700\n",
      "INFO:LoE:Performance: 0.974\n",
      "INFO:LoE:Performance increase by 0.009\n",
      "INFO:LoE:Round took 8.176 seconds\n",
      "\n",
      "INFO:LoE:Performing round 4\n",
      "INFO:LoE:Current step size: 1.600\n",
      "INFO:LoE:Performance: 0.967\n",
      "INFO:LoE:Round took 12.827 seconds\n",
      "\n",
      "INFO:LoE:Performing round 5\n",
      "INFO:LoE:Current step size: 1.500\n",
      "INFO:LoE:Performance: 0.965\n",
      "INFO:LoE:Round took 11.177 seconds\n",
      "\n",
      "INFO:LoE:Performing round 6\n",
      "INFO:LoE:Current step size: 1.400\n",
      "INFO:LoE:Performance: 0.969\n",
      "INFO:LoE:Round took 10.166 seconds\n",
      "\n",
      "INFO:LoE:Performing round 7\n",
      "INFO:LoE:Current step size: 1.300\n",
      "INFO:LoE:Performance: 0.956\n",
      "INFO:LoE:Round took 8.273 seconds\n",
      "\n",
      "INFO:LoE:Performing round 8\n",
      "INFO:LoE:Current step size: 1.200\n",
      "INFO:LoE:Performance: 0.956\n",
      "INFO:LoE:Round took 7.080 seconds\n",
      "\n",
      "INFO:LoE:Performing round 9\n",
      "INFO:LoE:Current step size: 1.100\n",
      "INFO:LoE:Performance: 0.963\n",
      "INFO:LoE:Round took 7.858 seconds\n",
      "\n",
      "INFO:LoE:Performing round 10\n",
      "INFO:LoE:Current step size: 1.000\n",
      "INFO:LoE:Performance: 0.958\n",
      "INFO:LoE:Round took 9.257 seconds\n",
      "\n",
      "INFO:LoE:Performing round 11\n",
      "INFO:LoE:Current step size: 0.900\n",
      "INFO:LoE:Performance: 0.974\n",
      "INFO:LoE:Round took 10.808 seconds\n",
      "\n",
      "INFO:LoE:Performing round 12\n",
      "INFO:LoE:Current step size: 0.800\n",
      "INFO:LoE:Performance: 0.978\n",
      "INFO:LoE:Performance increase by 0.004\n",
      "INFO:LoE:Round took 9.569 seconds\n",
      "\n",
      "INFO:LoE:Performing round 13\n",
      "INFO:LoE:Current step size: 0.700\n",
      "INFO:LoE:Performance: 0.963\n",
      "INFO:LoE:Round took 8.465 seconds\n",
      "\n",
      "INFO:LoE:Performing round 14\n",
      "INFO:LoE:Current step size: 0.600\n",
      "INFO:LoE:Performance: 0.969\n",
      "INFO:LoE:Round took 10.801 seconds\n",
      "\n",
      "INFO:LoE:Performing round 15\n",
      "INFO:LoE:Current step size: 0.500\n",
      "INFO:LoE:Performance: 0.965\n",
      "INFO:LoE:Round took 8.921 seconds\n",
      "\n",
      "INFO:LoE:Performing round 16\n",
      "INFO:LoE:Current step size: 0.400\n",
      "INFO:LoE:Performance: 0.978\n",
      "INFO:LoE:Round took 8.134 seconds\n",
      "\n",
      "INFO:LoE:Performing round 17\n",
      "INFO:LoE:Current step size: 0.300\n",
      "INFO:LoE:Performance: 0.969\n",
      "INFO:LoE:Round took 6.383 seconds\n",
      "\n",
      "INFO:LoE:Performing round 18\n",
      "INFO:LoE:Current step size: 0.200\n",
      "INFO:LoE:Performance: 0.971\n",
      "INFO:LoE:Round took 5.455 seconds\n",
      "\n",
      "INFO:LoE:Performing round 19\n",
      "INFO:LoE:Current step size: 0.100\n",
      "INFO:LoE:Performance: 0.976\n",
      "INFO:LoE:Round took 6.007 seconds\n",
      "\n",
      "INFO:LoE:Performance Final: 0.978\n",
      "INFO:LoE:Training took 196.278 seconds in sum\n"
     ]
    }
   ],
   "source": [
    "loe.fit(X_train, y_train)"
   ],
   "metadata": {
    "collapsed": false,
    "ExecuteTime": {
     "end_time": "2024-03-17T23:03:31.737100Z",
     "start_time": "2024-03-17T23:00:15.435517Z"
    }
   },
   "id": "d9341167167aeebe",
   "execution_count": 35
  },
  {
   "cell_type": "code",
   "outputs": [],
   "source": [
    "# Build 2 RuleGons from the LoE having two different max lengths for the assignment process surrogate\n",
    "rule_loe_1 = RuleLoE.from_loe_instance(loe, max_length_assignment=1)\n",
    "rule_loe_2 = RuleLoE.from_loe_instance(loe, max_length_assignment=2)"
   ],
   "metadata": {
    "collapsed": false,
    "ExecuteTime": {
     "end_time": "2024-03-17T23:04:17.607856Z",
     "start_time": "2024-03-17T23:04:15.026303Z"
    }
   },
   "id": "c69e4dbdb79b7c5a",
   "execution_count": 36
  },
  {
   "cell_type": "code",
   "outputs": [
    {
     "name": "stdout",
     "output_type": "stream",
     "text": [
      "Agreement level 1 0.9912280701754386\n",
      "Agreement level 2 0.9912280701754386\n"
     ]
    }
   ],
   "source": [
    "# Agreement is the level where P(y|X) is the same for both models\n",
    "print(\"Agreement level 1\", rule_loe_1.calculate_agreement_with_loe(loe=loe, X=X_test))\n",
    "print(\"Agreement level 2\", rule_loe_2.calculate_agreement_with_loe(loe=loe, X=X_test))"
   ],
   "metadata": {
    "collapsed": false,
    "ExecuteTime": {
     "end_time": "2024-03-17T23:04:19.103147Z",
     "start_time": "2024-03-17T23:04:19.012771Z"
    }
   },
   "id": "e274ed9626e52fa7",
   "execution_count": 37
  },
  {
   "cell_type": "code",
   "outputs": [
    {
     "name": "stdout",
     "output_type": "stream",
     "text": [
      "Report for RuleLoE 1\n",
      "              precision    recall  f1-score   support\n",
      "\n",
      "      benign       0.97      0.93      0.95        74\n",
      "   malignant       0.88      0.95      0.92        40\n",
      "\n",
      "    accuracy                           0.94       114\n",
      "   macro avg       0.93      0.94      0.93       114\n",
      "weighted avg       0.94      0.94      0.94       114\n",
      "\n",
      "Accuracy 0.9385964912280702\n"
     ]
    }
   ],
   "source": [
    "print(\"Report for RuleLoE 1\")\n",
    "print(classification_report(rule_loe_1.predict(X_test), y_test))\n",
    "print(\"Accuracy\", rule_loe_1.score(X_test, y_test))"
   ],
   "metadata": {
    "collapsed": false,
    "ExecuteTime": {
     "end_time": "2024-03-17T23:04:27.808491Z",
     "start_time": "2024-03-17T23:04:27.729044Z"
    }
   },
   "id": "efb374400e4ba904",
   "execution_count": 38
  },
  {
   "cell_type": "code",
   "outputs": [
    {
     "name": "stdout",
     "output_type": "stream",
     "text": [
      "Report for RuleLoE 2\n",
      "              precision    recall  f1-score   support\n",
      "\n",
      "      benign       0.97      0.96      0.97        72\n",
      "   malignant       0.93      0.95      0.94        42\n",
      "\n",
      "    accuracy                           0.96       114\n",
      "   macro avg       0.95      0.96      0.95       114\n",
      "weighted avg       0.96      0.96      0.96       114\n",
      "\n",
      "Accuracy 0.956140350877193\n"
     ]
    }
   ],
   "source": [
    "print(\"Report for RuleLoE 2\")\n",
    "print(classification_report(rule_loe_2.predict(X_test), y_test))\n",
    "print(\"Accuracy\", rule_loe_2.score(X_test, y_test))"
   ],
   "metadata": {
    "collapsed": false,
    "ExecuteTime": {
     "end_time": "2024-03-17T23:04:31.174795Z",
     "start_time": "2024-03-17T23:04:31.094299Z"
    }
   },
   "id": "67e1f047577d94d1",
   "execution_count": 39
  },
  {
   "cell_type": "markdown",
   "source": [
    "## Explanations"
   ],
   "metadata": {
    "collapsed": false
   },
   "id": "9e4305162f2f16b6"
  },
  {
   "cell_type": "code",
   "outputs": [
    {
     "name": "stdout",
     "output_type": "stream",
     "text": [
      "Rules for RuleLoE 1 with Coverage (= number of samples covered by the rule, Nerd = the model in the pool where the rule derives from, Prediction = the target of the rule)\n"
     ]
    },
    {
     "data": {
      "text/plain": "                                             Rule 1  \\\n0                            mean perimeter < 97.84   \n1                            mean perimeter < 97.84   \n2  worst radius is INSIDE range [17.35, ..., 20.22[   \n3                            mean perimeter < 97.84   \n4                              worst radius ≥ 20.22   \n5  worst radius is INSIDE range [17.35, ..., 20.22[   \n6                            mean perimeter < 97.84   \n7                            mean perimeter < 97.84   \n\n                        Rule 2                   Rule 3  \\\n0  worst concave points < 0.14       area error < 38.45   \n1  worst concave points ≥ 0.14  worst smoothness < 0.14   \n2       worst concavity < 0.23                            \n3  worst concave points < 0.14       area error ≥ 38.45   \n4                                                         \n5       worst concavity ≥ 0.23                            \n6  worst concave points ≥ 0.14  worst smoothness ≥ 0.14   \n7  worst concave points < 0.14       area error ≥ 38.45   \n\n                                              Rule 4  Coverage in Percent  \\\n0                                                                   58.02   \n1                                                                    2.42   \n2                                                                    1.98   \n3  fractal dimension error is OUTSIDE range [0.00...                 1.54   \n4                                                                   20.00   \n5                                                                    8.13   \n6                                                                    6.59   \n7  fractal dimension error is INSIDE range [0.00,...                 1.32   \n\n   Precision in Percent Expert Prediction  \n0                 98.11     #4     benign  \n1                 63.64     #4     benign  \n2                 55.56     #3     benign  \n3                100.00     #4     benign  \n4                100.00     #1  malignant  \n5                 97.30     #3  malignant  \n6                 96.67     #4  malignant  \n7                100.00     #4  malignant  ",
      "text/html": "<div>\n<style scoped>\n    .dataframe tbody tr th:only-of-type {\n        vertical-align: middle;\n    }\n\n    .dataframe tbody tr th {\n        vertical-align: top;\n    }\n\n    .dataframe thead th {\n        text-align: right;\n    }\n</style>\n<table border=\"1\" class=\"dataframe\">\n  <thead>\n    <tr style=\"text-align: right;\">\n      <th></th>\n      <th>Rule 1</th>\n      <th>Rule 2</th>\n      <th>Rule 3</th>\n      <th>Rule 4</th>\n      <th>Coverage in Percent</th>\n      <th>Precision in Percent</th>\n      <th>Expert</th>\n      <th>Prediction</th>\n    </tr>\n  </thead>\n  <tbody>\n    <tr>\n      <th>0</th>\n      <td>mean perimeter &lt; 97.84</td>\n      <td>worst concave points &lt; 0.14</td>\n      <td>area error &lt; 38.45</td>\n      <td></td>\n      <td>58.02</td>\n      <td>98.11</td>\n      <td>#4</td>\n      <td>benign</td>\n    </tr>\n    <tr>\n      <th>1</th>\n      <td>mean perimeter &lt; 97.84</td>\n      <td>worst concave points ≥ 0.14</td>\n      <td>worst smoothness &lt; 0.14</td>\n      <td></td>\n      <td>2.42</td>\n      <td>63.64</td>\n      <td>#4</td>\n      <td>benign</td>\n    </tr>\n    <tr>\n      <th>2</th>\n      <td>worst radius is INSIDE range [17.35, ..., 20.22[</td>\n      <td>worst concavity &lt; 0.23</td>\n      <td></td>\n      <td></td>\n      <td>1.98</td>\n      <td>55.56</td>\n      <td>#3</td>\n      <td>benign</td>\n    </tr>\n    <tr>\n      <th>3</th>\n      <td>mean perimeter &lt; 97.84</td>\n      <td>worst concave points &lt; 0.14</td>\n      <td>area error ≥ 38.45</td>\n      <td>fractal dimension error is OUTSIDE range [0.00...</td>\n      <td>1.54</td>\n      <td>100.00</td>\n      <td>#4</td>\n      <td>benign</td>\n    </tr>\n    <tr>\n      <th>4</th>\n      <td>worst radius ≥ 20.22</td>\n      <td></td>\n      <td></td>\n      <td></td>\n      <td>20.00</td>\n      <td>100.00</td>\n      <td>#1</td>\n      <td>malignant</td>\n    </tr>\n    <tr>\n      <th>5</th>\n      <td>worst radius is INSIDE range [17.35, ..., 20.22[</td>\n      <td>worst concavity ≥ 0.23</td>\n      <td></td>\n      <td></td>\n      <td>8.13</td>\n      <td>97.30</td>\n      <td>#3</td>\n      <td>malignant</td>\n    </tr>\n    <tr>\n      <th>6</th>\n      <td>mean perimeter &lt; 97.84</td>\n      <td>worst concave points ≥ 0.14</td>\n      <td>worst smoothness ≥ 0.14</td>\n      <td></td>\n      <td>6.59</td>\n      <td>96.67</td>\n      <td>#4</td>\n      <td>malignant</td>\n    </tr>\n    <tr>\n      <th>7</th>\n      <td>mean perimeter &lt; 97.84</td>\n      <td>worst concave points &lt; 0.14</td>\n      <td>area error ≥ 38.45</td>\n      <td>fractal dimension error is INSIDE range [0.00,...</td>\n      <td>1.32</td>\n      <td>100.00</td>\n      <td>#4</td>\n      <td>malignant</td>\n    </tr>\n  </tbody>\n</table>\n</div>"
     },
     "execution_count": 41,
     "metadata": {},
     "output_type": "execute_result"
    }
   ],
   "source": [
    "print(\n",
    "    \"Rules for RuleLoE 1 with Coverage (= number of samples covered by the rule, Nerd = the model in the pool where the rule derives from, Prediction = the target of the rule)\")\n",
    "rule_loe_1.explain()"
   ],
   "metadata": {
    "collapsed": false,
    "ExecuteTime": {
     "end_time": "2024-03-17T23:04:49.993762Z",
     "start_time": "2024-03-17T23:04:49.954648Z"
    }
   },
   "id": "e1f7defad4be38e6",
   "execution_count": 41
  },
  {
   "cell_type": "code",
   "outputs": [
    {
     "name": "stdout",
     "output_type": "stream",
     "text": [
      "Rules for RuleLoE 2 with Coverage (= number of samples covered by the rule, Nerd = the model in the pool where the rule derives from, Prediction = the target of the rule)\n"
     ]
    },
    {
     "data": {
      "text/plain": "                                             Rule 1  \\\n0                            mean perimeter < 97.84   \n1                            mean perimeter < 97.84   \n2                            mean perimeter < 97.84   \n3  worst radius is INSIDE range [17.35, ..., 20.22[   \n4                              worst radius ≥ 20.22   \n5  worst radius is INSIDE range [17.35, ..., 20.22[   \n6   mean radius is INSIDE range [15.00, ..., 19.50[   \n7                            mean perimeter < 97.84   \n\n                                             Rule 2  \\\n0                              worst radius < 17.06   \n1                              worst radius < 17.06   \n2                              worst radius < 17.06   \n3                              worst area < 1158.25   \n4                               worst area ≥ 1298.5   \n5                              worst area < 1158.25   \n6  worst radius is INSIDE range [18.55, ..., 20.88[   \n7                              worst radius < 17.06   \n\n                        Rule 3                   Rule 4  \\\n0  worst concave points < 0.14       area error < 38.45   \n1  worst concave points ≥ 0.14  worst smoothness < 0.14   \n2  worst concave points < 0.14       area error ≥ 38.45   \n3       worst concavity < 0.23                            \n4                                                         \n5       worst concavity ≥ 0.23                            \n6                                                         \n7  worst concave points ≥ 0.14  worst smoothness ≥ 0.14   \n\n                                              Rule 5  Coverage in Percent  \\\n0                                                                   57.58   \n1                                                                    1.76   \n2  fractal dimension error is OUTSIDE range [0.00...                 1.54   \n3                                                                    1.10   \n4                                                                   18.90   \n5                                                                    6.37   \n6                                                                    5.93   \n7                                                                    4.84   \n\n   Precision in Percent Expert Prediction  \n0                 98.09     #4     benign  \n1                 87.50     #4     benign  \n2                100.00     #4     benign  \n3                 80.00     #3     benign  \n4                100.00     #1  malignant  \n5                 96.55     #3  malignant  \n6                 96.30     #2  malignant  \n7                 95.45     #4  malignant  ",
      "text/html": "<div>\n<style scoped>\n    .dataframe tbody tr th:only-of-type {\n        vertical-align: middle;\n    }\n\n    .dataframe tbody tr th {\n        vertical-align: top;\n    }\n\n    .dataframe thead th {\n        text-align: right;\n    }\n</style>\n<table border=\"1\" class=\"dataframe\">\n  <thead>\n    <tr style=\"text-align: right;\">\n      <th></th>\n      <th>Rule 1</th>\n      <th>Rule 2</th>\n      <th>Rule 3</th>\n      <th>Rule 4</th>\n      <th>Rule 5</th>\n      <th>Coverage in Percent</th>\n      <th>Precision in Percent</th>\n      <th>Expert</th>\n      <th>Prediction</th>\n    </tr>\n  </thead>\n  <tbody>\n    <tr>\n      <th>0</th>\n      <td>mean perimeter &lt; 97.84</td>\n      <td>worst radius &lt; 17.06</td>\n      <td>worst concave points &lt; 0.14</td>\n      <td>area error &lt; 38.45</td>\n      <td></td>\n      <td>57.58</td>\n      <td>98.09</td>\n      <td>#4</td>\n      <td>benign</td>\n    </tr>\n    <tr>\n      <th>1</th>\n      <td>mean perimeter &lt; 97.84</td>\n      <td>worst radius &lt; 17.06</td>\n      <td>worst concave points ≥ 0.14</td>\n      <td>worst smoothness &lt; 0.14</td>\n      <td></td>\n      <td>1.76</td>\n      <td>87.50</td>\n      <td>#4</td>\n      <td>benign</td>\n    </tr>\n    <tr>\n      <th>2</th>\n      <td>mean perimeter &lt; 97.84</td>\n      <td>worst radius &lt; 17.06</td>\n      <td>worst concave points &lt; 0.14</td>\n      <td>area error ≥ 38.45</td>\n      <td>fractal dimension error is OUTSIDE range [0.00...</td>\n      <td>1.54</td>\n      <td>100.00</td>\n      <td>#4</td>\n      <td>benign</td>\n    </tr>\n    <tr>\n      <th>3</th>\n      <td>worst radius is INSIDE range [17.35, ..., 20.22[</td>\n      <td>worst area &lt; 1158.25</td>\n      <td>worst concavity &lt; 0.23</td>\n      <td></td>\n      <td></td>\n      <td>1.10</td>\n      <td>80.00</td>\n      <td>#3</td>\n      <td>benign</td>\n    </tr>\n    <tr>\n      <th>4</th>\n      <td>worst radius ≥ 20.22</td>\n      <td>worst area ≥ 1298.5</td>\n      <td></td>\n      <td></td>\n      <td></td>\n      <td>18.90</td>\n      <td>100.00</td>\n      <td>#1</td>\n      <td>malignant</td>\n    </tr>\n    <tr>\n      <th>5</th>\n      <td>worst radius is INSIDE range [17.35, ..., 20.22[</td>\n      <td>worst area &lt; 1158.25</td>\n      <td>worst concavity ≥ 0.23</td>\n      <td></td>\n      <td></td>\n      <td>6.37</td>\n      <td>96.55</td>\n      <td>#3</td>\n      <td>malignant</td>\n    </tr>\n    <tr>\n      <th>6</th>\n      <td>mean radius is INSIDE range [15.00, ..., 19.50[</td>\n      <td>worst radius is INSIDE range [18.55, ..., 20.88[</td>\n      <td></td>\n      <td></td>\n      <td></td>\n      <td>5.93</td>\n      <td>96.30</td>\n      <td>#2</td>\n      <td>malignant</td>\n    </tr>\n    <tr>\n      <th>7</th>\n      <td>mean perimeter &lt; 97.84</td>\n      <td>worst radius &lt; 17.06</td>\n      <td>worst concave points ≥ 0.14</td>\n      <td>worst smoothness ≥ 0.14</td>\n      <td></td>\n      <td>4.84</td>\n      <td>95.45</td>\n      <td>#4</td>\n      <td>malignant</td>\n    </tr>\n  </tbody>\n</table>\n</div>"
     },
     "execution_count": 42,
     "metadata": {},
     "output_type": "execute_result"
    }
   ],
   "source": [
    "print(\n",
    "    \"Rules for RuleLoE 2 with Coverage (= number of samples covered by the rule, Nerd = the model in the pool where the rule derives from, Prediction = the target of the rule)\")\n",
    "rule_loe_2.explain()"
   ],
   "metadata": {
    "collapsed": false,
    "ExecuteTime": {
     "end_time": "2024-03-17T23:04:50.945506Z",
     "start_time": "2024-03-17T23:04:50.912073Z"
    }
   },
   "id": "1090155ff71a7ca8",
   "execution_count": 42
  },
  {
   "cell_type": "code",
   "outputs": [
    {
     "name": "stdout",
     "output_type": "stream",
     "text": [
      "Number of conditions for RuleLoE 1: 22\n",
      "Number of rules for RuleLoE 1: 8\n"
     ]
    }
   ],
   "source": [
    "# Some metrics\n",
    "print(\"Number of conditions for RuleLoE 1:\", rule_loe_1.count_conditions())\n",
    "rule_loe_2.count_conditions()\n",
    "print(\"Number of rules for RuleLoE 1:\", rule_loe_1.count_rules())"
   ],
   "metadata": {
    "collapsed": false,
    "ExecuteTime": {
     "end_time": "2024-03-17T23:04:52.477827Z",
     "start_time": "2024-03-17T23:04:52.470155Z"
    }
   },
   "id": "451de26a296816fa",
   "execution_count": 43
  },
  {
   "cell_type": "markdown",
   "source": [
    "## Details"
   ],
   "metadata": {
    "collapsed": false
   },
   "id": "ccd9597d8152e5ac"
  },
  {
   "cell_type": "code",
   "outputs": [
    {
     "name": "stderr",
     "output_type": "stream",
     "text": [
      "/Users/ric.hard/Dropbox/dev/python_libs/libs/hdtree/src/split_rule.py:2229: FutureWarning: Series.__getitem__ treating keys as positions is deprecated. In a future version, integer keys will always be treated as labels (consistent with DataFrame behavior). To access a value by position, use `ser.iloc[pos]`\n",
      "  attr = sample[attr_idx]\n"
     ]
    },
    {
     "data": {
      "image/svg+xml": "<?xml version=\"1.0\" encoding=\"UTF-8\" standalone=\"no\"?>\n<!DOCTYPE svg PUBLIC \"-//W3C//DTD SVG 1.1//EN\"\n \"http://www.w3.org/Graphics/SVG/1.1/DTD/svg11.dtd\">\n<!-- Generated by graphviz version 9.0.0 (20230911.1827)\n -->\n<!-- Pages: 1 -->\n<svg width=\"1651pt\" height=\"820pt\"\n viewBox=\"0.00 0.00 1651.07 820.30\" xmlns=\"http://www.w3.org/2000/svg\" xmlns:xlink=\"http://www.w3.org/1999/xlink\">\n<g id=\"graph0\" class=\"graph\" transform=\"scale(1 1) rotate(0) translate(4 816.3)\">\n<polygon fill=\"white\" stroke=\"none\" points=\"-4,4 -4,-816.3 1647.07,-816.3 1647.07,4 -4,4\"/>\n<!-- Head (Level 0) -->\n<g id=\"node1\" class=\"node\">\n<title>Head (Level 0)</title>\n<polygon fill=\"#32ff32\" stroke=\"black\" stroke-width=\"10\" points=\"1238.32,-812.3 708.37,-812.3 708.37,-644.85 1238.32,-644.85 1238.32,-812.3\"/>\n<text text-anchor=\"start\" x=\"729.97\" y=\"-761.4\" font-family=\"monospace\" font-size=\"14.00\">Samples: &#160;&#160;&#160;&#160;&#160;311</text>\n<text text-anchor=\"start\" x=\"729.97\" y=\"-746.4\" font-family=\"monospace\" font-size=\"14.00\">Score: &#160;&#160;&#160;&#160;&#160;&#160;&#160;0.81</text>\n<text text-anchor=\"middle\" x=\"973.35\" y=\"-731.4\" font-family=\"monospace\" font-size=\"14.00\">Test: worst concave points &lt; 0.14 (=Groups&#39; 9/10. Quantile)</text>\n<text text-anchor=\"start\" x=\"729.97\" y=\"-700.4\" font-family=\"monospace\" font-size=\"14.00\">Begin: 277 ✓</text>\n<text text-anchor=\"start\" x=\"729.97\" y=\"-683.15\" font-family=\"monospace\" font-size=\"14.00\">Malignant: 34</text>\n<text text-anchor=\"middle\" x=\"973.35\" y=\"-668.15\" font-family=\"monospace\" font-size=\"14.00\"> </text>\n</g>\n<!-- Node #1 (Level 1) -->\n<g id=\"node2\" class=\"node\">\n<title>Node #1 (Level 1)</title>\n<polygon fill=\"#12ff12\" stroke=\"black\" stroke-width=\"8.97\" points=\"957.32,-592.35 493.37,-592.35 493.37,-424.9 957.32,-424.9 957.32,-592.35\"/>\n<text text-anchor=\"start\" x=\"514.97\" y=\"-541.45\" font-family=\"monospace\" font-size=\"14.00\">Samples: &#160;&#160;&#160;&#160;&#160;279</text>\n<text text-anchor=\"start\" x=\"514.97\" y=\"-526.45\" font-family=\"monospace\" font-size=\"14.00\">Score: &#160;&#160;&#160;&#160;&#160;&#160;&#160;0.93</text>\n<text text-anchor=\"middle\" x=\"725.35\" y=\"-511.45\" font-family=\"monospace\" font-size=\"14.00\">Test: area error &lt; 38.45 (=Groups&#39; 19/20. Quantile)</text>\n<text text-anchor=\"start\" x=\"514.97\" y=\"-480.45\" font-family=\"monospace\" font-size=\"14.00\">Begin: 269 ✓</text>\n<text text-anchor=\"start\" x=\"514.97\" y=\"-463.2\" font-family=\"monospace\" font-size=\"14.00\">Malignant: 10</text>\n<text text-anchor=\"middle\" x=\"725.35\" y=\"-448.2\" font-family=\"monospace\" font-size=\"14.00\"> </text>\n</g>\n<!-- Head (Level 0)&#45;&gt;Node #1 (Level 1) -->\n<g id=\"edge1\" class=\"edge\">\n<title>Head (Level 0)&#45;&gt;Node #1 (Level 1)</title>\n<path fill=\"none\" stroke=\"black\" stroke-width=\"6.28\" d=\"M873.55,-639.87C861.24,-629.05 848.59,-617.93 836.12,-606.98\"/>\n<polygon fill=\"black\" stroke=\"black\" stroke-width=\"6.28\" points=\"839.77,-602.87 828.63,-600.39 832.52,-611.12 839.77,-602.87\"/>\n<text text-anchor=\"middle\" x=\"875.35\" y=\"-613.55\" font-family=\"Times,serif\" font-size=\"14.00\">&lt; 0.14</text>\n</g>\n<!-- Node #2 (Level 1) -->\n<g id=\"node3\" class=\"node\">\n<title>Node #2 (Level 1)</title>\n<polygon fill=\"#60ff60\" stroke=\"black\" stroke-width=\"1.03\" points=\"1471.82,-592.35 974.88,-592.35 974.88,-424.9 1471.82,-424.9 1471.82,-592.35\"/>\n<text text-anchor=\"start\" x=\"996.47\" y=\"-541.45\" font-family=\"monospace\" font-size=\"14.00\">Samples: &#160;&#160;&#160;&#160;&#160;32</text>\n<text text-anchor=\"start\" x=\"996.47\" y=\"-526.45\" font-family=\"monospace\" font-size=\"14.00\">Score: &#160;&#160;&#160;&#160;&#160;&#160;&#160;0.62</text>\n<text text-anchor=\"middle\" x=\"1223.35\" y=\"-511.45\" font-family=\"monospace\" font-size=\"14.00\">Test: worst smoothness &lt; 0.14 (=Groups&#39; 5/20. Quantile)</text>\n<text text-anchor=\"start\" x=\"996.47\" y=\"-480.45\" font-family=\"monospace\" font-size=\"14.00\">Begin: 8</text>\n<text text-anchor=\"start\" x=\"996.47\" y=\"-465.45\" font-family=\"monospace\" font-size=\"14.00\">Malignant: 24 ✓</text>\n<text text-anchor=\"middle\" x=\"1223.35\" y=\"-448.2\" font-family=\"monospace\" font-size=\"14.00\"> </text>\n</g>\n<!-- Head (Level 0)&#45;&gt;Node #2 (Level 1) -->\n<g id=\"edge2\" class=\"edge\">\n<title>Head (Level 0)&#45;&gt;Node #2 (Level 1)</title>\n<path fill=\"none\" stroke=\"black\" stroke-width=\"0.72\" d=\"M1073.95,-639.87C1089.21,-626.57 1104.96,-612.84 1120.26,-599.5\"/>\n<polygon fill=\"black\" stroke=\"black\" stroke-width=\"0.72\" points=\"1122.16,-602.49 1127.4,-593.28 1117.56,-597.21 1122.16,-602.49\"/>\n<text text-anchor=\"middle\" x=\"1125.85\" y=\"-613.55\" font-family=\"Times,serif\" font-size=\"14.00\">≥ &#160;0.14</text>\n</g>\n<!-- Node #3 (Level 2) -->\n<g id=\"node4\" class=\"node\">\n<title>Node #3 (Level 2)</title>\n<polygon fill=\"#0aff0a\" stroke=\"black\" stroke-width=\"8.52\" points=\"488.7,-372.4 0,-372.4 0,-204.95 488.7,-204.95 488.7,-372.4\"/>\n<text text-anchor=\"start\" x=\"21.6\" y=\"-321.5\" font-family=\"monospace\" font-size=\"14.00\">Samples: &#160;&#160;&#160;&#160;&#160;265</text>\n<text text-anchor=\"start\" x=\"21.6\" y=\"-306.5\" font-family=\"monospace\" font-size=\"14.00\">Score: &#160;&#160;&#160;&#160;&#160;&#160;&#160;0.96</text>\n<text text-anchor=\"middle\" x=\"244.35\" y=\"-291.5\" font-family=\"monospace\" font-size=\"14.00\">Test: mean texture is within range [21.57, ..., 25.38[</text>\n<text text-anchor=\"start\" x=\"21.6\" y=\"-260.5\" font-family=\"monospace\" font-size=\"14.00\">Begin: 260 ✓</text>\n<text text-anchor=\"start\" x=\"21.6\" y=\"-243.25\" font-family=\"monospace\" font-size=\"14.00\">Malignant: 5</text>\n<text text-anchor=\"middle\" x=\"244.35\" y=\"-228.25\" font-family=\"monospace\" font-size=\"14.00\"> </text>\n</g>\n<!-- Node #1 (Level 1)&#45;&gt;Node #3 (Level 2) -->\n<g id=\"edge3\" class=\"edge\">\n<title>Node #1 (Level 1)&#45;&gt;Node #3 (Level 2)</title>\n<path fill=\"none\" stroke=\"black\" stroke-width=\"6.65\" d=\"M534.21,-421.02C506.66,-408.53 478.2,-395.64 450.37,-383.03\"/>\n<polygon fill=\"black\" stroke=\"black\" stroke-width=\"6.65\" points=\"452.97,-377.82 441.46,-378.99 448.17,-388.42 452.97,-377.82\"/>\n<text text-anchor=\"middle\" x=\"520.72\" y=\"-393.6\" font-family=\"Times,serif\" font-size=\"14.00\">&lt; 38.45</text>\n</g>\n<!-- Node #4 (Level 2) -->\n<g id=\"node5\" class=\"node\">\n<title>Node #4 (Level 2)</title>\n<polygon fill=\"#76ff76\" stroke=\"black\" stroke-width=\"0.45\" points=\"1069.82,-372.4 506.87,-372.4 506.87,-204.95 1069.82,-204.95 1069.82,-372.4\"/>\n<text text-anchor=\"start\" x=\"528.47\" y=\"-321.5\" font-family=\"monospace\" font-size=\"14.00\">Samples: &#160;&#160;&#160;&#160;&#160;14</text>\n<text text-anchor=\"start\" x=\"528.47\" y=\"-306.5\" font-family=\"monospace\" font-size=\"14.00\">Score: &#160;&#160;&#160;&#160;&#160;&#160;&#160;0.54</text>\n<text text-anchor=\"middle\" x=\"788.35\" y=\"-291.5\" font-family=\"monospace\" font-size=\"14.00\">Test: fractal dimension error is within range [0.00, ..., 0.00[</text>\n<text text-anchor=\"start\" x=\"528.47\" y=\"-260.5\" font-family=\"monospace\" font-size=\"14.00\">Begin: 9 ✓</text>\n<text text-anchor=\"start\" x=\"528.47\" y=\"-243.25\" font-family=\"monospace\" font-size=\"14.00\">Malignant: 5</text>\n<text text-anchor=\"middle\" x=\"788.35\" y=\"-228.25\" font-family=\"monospace\" font-size=\"14.00\"> </text>\n</g>\n<!-- Node #1 (Level 1)&#45;&gt;Node #4 (Level 2) -->\n<g id=\"edge4\" class=\"edge\">\n<title>Node #1 (Level 1)&#45;&gt;Node #4 (Level 2)</title>\n<path fill=\"none\" stroke=\"black\" stroke-width=\"0.35\" d=\"M750.34,-421.17C754.06,-408.29 757.91,-394.97 761.67,-381.98\"/>\n<polygon fill=\"black\" stroke=\"black\" stroke-width=\"0.35\" points=\"764.96,-383.21 764.37,-372.63 758.23,-381.26 764.96,-383.21\"/>\n<text text-anchor=\"middle\" x=\"782.22\" y=\"-393.6\" font-family=\"Times,serif\" font-size=\"14.00\">≥ &#160;38.45</text>\n</g>\n<!-- Node #5 (Level 2) -->\n<g id=\"node6\" class=\"node\">\n<title>Node #5 (Level 2)</title>\n<polygon fill=\"#38ff38\" stroke=\"black\" stroke-width=\"0.26\" points=\"1284.2,-364.9 1092.5,-364.9 1092.5,-212.45 1284.2,-212.45 1284.2,-364.9\"/>\n<polyline fill=\"none\" stroke=\"black\" stroke-width=\"0.26\" points=\"1104.5,-364.9 1092.5,-352.9\"/>\n<polyline fill=\"none\" stroke=\"black\" stroke-width=\"0.26\" points=\"1092.5,-224.45 1104.5,-212.45\"/>\n<polyline fill=\"none\" stroke=\"black\" stroke-width=\"0.26\" points=\"1272.2,-212.45 1284.2,-224.45\"/>\n<polyline fill=\"none\" stroke=\"black\" stroke-width=\"0.26\" points=\"1284.2,-352.9 1272.2,-364.9\"/>\n<text text-anchor=\"start\" x=\"1114.1\" y=\"-314\" font-family=\"monospace\" font-size=\"14.00\">Samples: &#160;&#160;&#160;&#160;&#160;8</text>\n<text text-anchor=\"middle\" x=\"1188.35\" y=\"-299\" font-family=\"monospace\" font-size=\"14.00\">Score: &#160;&#160;&#160;&#160;&#160;&#160;&#160;0.78</text>\n<text text-anchor=\"start\" x=\"1114.1\" y=\"-268\" font-family=\"monospace\" font-size=\"14.00\">Begin: 7 ✓</text>\n<text text-anchor=\"start\" x=\"1114.1\" y=\"-250.75\" font-family=\"monospace\" font-size=\"14.00\">Malignant: 1</text>\n<text text-anchor=\"middle\" x=\"1188.35\" y=\"-235.75\" font-family=\"monospace\" font-size=\"14.00\"> </text>\n</g>\n<!-- Node #2 (Level 1)&#45;&gt;Node #5 (Level 2) -->\n<g id=\"edge5\" class=\"edge\">\n<title>Node #2 (Level 1)&#45;&gt;Node #5 (Level 2)</title>\n<path fill=\"none\" stroke=\"black\" stroke-width=\"1.75\" d=\"M1203.53,-424.51C1202.38,-418.57 1201.3,-412.65 1200.35,-406.9 1198.78,-397.39 1197.39,-387.41 1196.15,-377.46\"/>\n<polygon fill=\"black\" stroke=\"black\" stroke-width=\"1.75\" points=\"1199.63,-377.05 1194.98,-367.53 1192.68,-377.87 1199.63,-377.05\"/>\n<text text-anchor=\"middle\" x=\"1218.35\" y=\"-393.6\" font-family=\"Times,serif\" font-size=\"14.00\">&lt; 0.14</text>\n</g>\n<!-- Node #6 (Level 2) -->\n<g id=\"node7\" class=\"node\">\n<title>Node #6 (Level 2)</title>\n<polygon fill=\"#15ff15\" stroke=\"black\" stroke-width=\"0.77\" points=\"1600.82,-372.4 1301.88,-372.4 1301.88,-204.95 1600.82,-204.95 1600.82,-372.4\"/>\n<text text-anchor=\"start\" x=\"1323.47\" y=\"-321.5\" font-family=\"monospace\" font-size=\"14.00\">Samples: &#160;&#160;&#160;&#160;&#160;24</text>\n<text text-anchor=\"start\" x=\"1323.47\" y=\"-306.5\" font-family=\"monospace\" font-size=\"14.00\">Score: &#160;&#160;&#160;&#160;&#160;&#160;&#160;0.92</text>\n<text text-anchor=\"middle\" x=\"1451.35\" y=\"-291.5\" font-family=\"monospace\" font-size=\"14.00\">Test: mean texture &lt; area error</text>\n<text text-anchor=\"start\" x=\"1323.47\" y=\"-260.5\" font-family=\"monospace\" font-size=\"14.00\">Begin: 1</text>\n<text text-anchor=\"start\" x=\"1323.47\" y=\"-245.5\" font-family=\"monospace\" font-size=\"14.00\">Malignant: 23 ✓</text>\n<text text-anchor=\"middle\" x=\"1451.35\" y=\"-228.25\" font-family=\"monospace\" font-size=\"14.00\"> </text>\n</g>\n<!-- Node #2 (Level 1)&#45;&gt;Node #6 (Level 2) -->\n<g id=\"edge6\" class=\"edge\">\n<title>Node #2 (Level 1)&#45;&gt;Node #6 (Level 2)</title>\n<path fill=\"none\" stroke=\"black\" stroke-width=\"5.25\" d=\"M1310.2,-424.61C1324.4,-411.03 1339.19,-396.89 1353.63,-383.08\"/>\n<polygon fill=\"black\" stroke=\"black\" stroke-width=\"5.25\" points=\"1356.52,-386.68 1360.58,-376.45 1350.17,-380.04 1356.52,-386.68\"/>\n<text text-anchor=\"middle\" x=\"1363.85\" y=\"-393.6\" font-family=\"Times,serif\" font-size=\"14.00\">≥ &#160;0.14</text>\n</g>\n<!-- Node #7 (Level 3) -->\n<g id=\"node8\" class=\"node\">\n<title>Node #7 (Level 3)</title>\n<polygon fill=\"#50ff50\" stroke=\"black\" stroke-width=\"0.84\" points=\"237.2,-152.45 45.5,-152.45 45.5,0 237.2,0 237.2,-152.45\"/>\n<text text-anchor=\"start\" x=\"67.1\" y=\"-101.55\" font-family=\"monospace\" font-size=\"14.00\">Samples: &#160;&#160;&#160;&#160;&#160;26</text>\n<text text-anchor=\"middle\" x=\"141.35\" y=\"-86.55\" font-family=\"monospace\" font-size=\"14.00\">Score: &#160;&#160;&#160;&#160;&#160;&#160;&#160;0.69</text>\n<text text-anchor=\"start\" x=\"67.1\" y=\"-55.55\" font-family=\"monospace\" font-size=\"14.00\">Begin: 21 ✓</text>\n<text text-anchor=\"start\" x=\"67.1\" y=\"-38.3\" font-family=\"monospace\" font-size=\"14.00\">Malignant: 5</text>\n<text text-anchor=\"middle\" x=\"141.35\" y=\"-23.3\" font-family=\"monospace\" font-size=\"14.00\"> </text>\n</g>\n<!-- Node #3 (Level 2)&#45;&gt;Node #7 (Level 3) -->\n<g id=\"edge7\" class=\"edge\">\n<title>Node #3 (Level 2)&#45;&gt;Node #7 (Level 3)</title>\n<path fill=\"none\" stroke=\"black\" stroke-width=\"0.69\" d=\"M202.01,-201.17C195.69,-188.25 189.17,-174.94 182.87,-162.06\"/>\n<polygon fill=\"black\" stroke=\"black\" stroke-width=\"0.69\" points=\"186.09,-160.68 178.55,-153.23 179.8,-163.75 186.09,-160.68\"/>\n<text text-anchor=\"middle\" x=\"231.97\" y=\"-173.65\" font-family=\"Times,serif\" font-size=\"14.00\">inside interval</text>\n</g>\n<!-- Node #8 (Level 3) -->\n<g id=\"node9\" class=\"node\">\n<title>Node #8 (Level 3)</title>\n<polygon fill=\"#00ff00\" stroke=\"black\" stroke-width=\"7.68\" points=\"439.07,-144.95 255.62,-144.95 255.62,-7.5 439.07,-7.5 439.07,-144.95\"/>\n<text text-anchor=\"start\" x=\"277.22\" y=\"-94.05\" font-family=\"monospace\" font-size=\"14.00\">Samples: &#160;&#160;&#160;&#160;&#160;239</text>\n<text text-anchor=\"middle\" x=\"347.35\" y=\"-79.05\" font-family=\"monospace\" font-size=\"14.00\">Score: &#160;&#160;&#160;&#160;&#160;&#160;&#160;1.0</text>\n<text text-anchor=\"start\" x=\"277.22\" y=\"-48.05\" font-family=\"monospace\" font-size=\"14.00\">Begin: 239 ✓</text>\n<text text-anchor=\"middle\" x=\"347.35\" y=\"-30.8\" font-family=\"monospace\" font-size=\"14.00\"> </text>\n</g>\n<!-- Node #3 (Level 2)&#45;&gt;Node #8 (Level 3) -->\n<g id=\"edge8\" class=\"edge\">\n<title>Node #3 (Level 2)&#45;&gt;Node #8 (Level 3)</title>\n<path fill=\"none\" stroke=\"black\" stroke-width=\"6.31\" d=\"M286.69,-201.17C292.87,-188.54 299.23,-175.53 305.41,-162.92\"/>\n<polygon fill=\"black\" stroke=\"black\" stroke-width=\"6.31\" points=\"310.24,-165.61 309.68,-154.2 300.32,-160.75 310.24,-165.61\"/>\n<text text-anchor=\"middle\" x=\"341.72\" y=\"-173.65\" font-family=\"Times,serif\" font-size=\"14.00\">outside Interval</text>\n</g>\n<!-- Node #9 (Level 3) -->\n<g id=\"node10\" class=\"node\">\n<title>Node #9 (Level 3)</title>\n<polygon fill=\"#00ff00\" stroke=\"black\" stroke-width=\"0.16\" points=\"780.07,-144.95 596.62,-144.95 596.62,-7.5 780.07,-7.5 780.07,-144.95\"/>\n<text text-anchor=\"start\" x=\"618.22\" y=\"-94.05\" font-family=\"monospace\" font-size=\"14.00\">Samples: &#160;&#160;&#160;&#160;&#160;5</text>\n<text text-anchor=\"middle\" x=\"688.35\" y=\"-79.05\" font-family=\"monospace\" font-size=\"14.00\">Score: &#160;&#160;&#160;&#160;&#160;&#160;&#160;1.0</text>\n<text text-anchor=\"start\" x=\"618.22\" y=\"-48.05\" font-family=\"monospace\" font-size=\"14.00\">Malignant: 5 ✓</text>\n<text text-anchor=\"middle\" x=\"688.35\" y=\"-30.8\" font-family=\"monospace\" font-size=\"14.00\"> </text>\n</g>\n<!-- Node #4 (Level 2)&#45;&gt;Node #9 (Level 3) -->\n<g id=\"edge9\" class=\"edge\">\n<title>Node #4 (Level 2)&#45;&gt;Node #9 (Level 3)</title>\n<path fill=\"none\" stroke=\"black\" stroke-width=\"2.5\" d=\"M749.11,-205.1C741.6,-189.29 733.75,-172.77 726.28,-157.05\"/>\n<polygon fill=\"black\" stroke=\"black\" stroke-width=\"2.5\" points=\"729.46,-155.59 722.01,-148.06 723.14,-158.59 729.46,-155.59\"/>\n<text text-anchor=\"middle\" x=\"776.97\" y=\"-173.65\" font-family=\"Times,serif\" font-size=\"14.00\">inside interval</text>\n</g>\n<!-- Node #10 (Level 3) -->\n<g id=\"node11\" class=\"node\">\n<title>Node #10 (Level 3)</title>\n<polygon fill=\"#00ff00\" stroke=\"black\" stroke-width=\"0.29\" points=\"981.07,-144.95 797.62,-144.95 797.62,-7.5 981.07,-7.5 981.07,-144.95\"/>\n<text text-anchor=\"start\" x=\"819.22\" y=\"-94.05\" font-family=\"monospace\" font-size=\"14.00\">Samples: &#160;&#160;&#160;&#160;&#160;9</text>\n<text text-anchor=\"middle\" x=\"889.35\" y=\"-79.05\" font-family=\"monospace\" font-size=\"14.00\">Score: &#160;&#160;&#160;&#160;&#160;&#160;&#160;1.0</text>\n<text text-anchor=\"start\" x=\"819.22\" y=\"-48.05\" font-family=\"monospace\" font-size=\"14.00\">Begin: 9 ✓</text>\n<text text-anchor=\"middle\" x=\"889.35\" y=\"-30.8\" font-family=\"monospace\" font-size=\"14.00\"> </text>\n</g>\n<!-- Node #4 (Level 2)&#45;&gt;Node #10 (Level 3) -->\n<g id=\"edge10\" class=\"edge\">\n<title>Node #4 (Level 2)&#45;&gt;Node #10 (Level 3)</title>\n<path fill=\"none\" stroke=\"black\" stroke-width=\"4.5\" d=\"M827.98,-205.1C835.27,-189.92 842.87,-174.07 850.14,-158.92\"/>\n<polygon fill=\"black\" stroke=\"black\" stroke-width=\"4.5\" points=\"853.56,-160.89 854.34,-150.17 846.46,-157.49 853.56,-160.89\"/>\n<text text-anchor=\"middle\" x=\"884.72\" y=\"-173.65\" font-family=\"Times,serif\" font-size=\"14.00\">outside Interval</text>\n</g>\n<!-- Node #11 (Level 3) -->\n<g id=\"node12\" class=\"node\">\n<title>Node #11 (Level 3)</title>\n<polygon fill=\"#1aff1a\" stroke=\"black\" stroke-width=\"0.61\" points=\"1442.07,-152.45 1258.62,-152.45 1258.62,0 1442.07,0 1442.07,-152.45\"/>\n<text text-anchor=\"start\" x=\"1280.22\" y=\"-101.55\" font-family=\"monospace\" font-size=\"14.00\">Samples: &#160;&#160;&#160;&#160;&#160;19</text>\n<text text-anchor=\"middle\" x=\"1350.35\" y=\"-86.55\" font-family=\"monospace\" font-size=\"14.00\">Score: &#160;&#160;&#160;&#160;&#160;&#160;&#160;0.9</text>\n<text text-anchor=\"start\" x=\"1280.22\" y=\"-55.55\" font-family=\"monospace\" font-size=\"14.00\">Begin: 1</text>\n<text text-anchor=\"start\" x=\"1280.22\" y=\"-40.55\" font-family=\"monospace\" font-size=\"14.00\">Malignant: 18 ✓</text>\n<text text-anchor=\"middle\" x=\"1350.35\" y=\"-23.3\" font-family=\"monospace\" font-size=\"14.00\"> </text>\n</g>\n<!-- Node #6 (Level 2)&#45;&gt;Node #11 (Level 3) -->\n<g id=\"edge11\" class=\"edge\">\n<title>Node #6 (Level 2)&#45;&gt;Node #11 (Level 3)</title>\n<path fill=\"none\" stroke=\"black\" stroke-width=\"5.54\" d=\"M1367.46,-205.2C1363.81,-199.29 1360.55,-193.19 1357.85,-186.95 1355.26,-180.97 1353.23,-174.64 1351.66,-168.15\"/>\n<polygon fill=\"black\" stroke=\"black\" stroke-width=\"5.54\" points=\"1356.47,-167.51 1349.86,-158.57 1346.94,-169.3 1356.47,-167.51\"/>\n<text text-anchor=\"middle\" x=\"1428.1\" y=\"-173.65\" font-family=\"Times,serif\" font-size=\"14.00\">mean texture &lt; area error</text>\n</g>\n<!-- Node #12 (Level 3) -->\n<g id=\"node13\" class=\"node\">\n<title>Node #12 (Level 3)</title>\n<polygon fill=\"#00ff00\" stroke=\"black\" stroke-width=\"0.16\" points=\"1643.07,-144.95 1459.62,-144.95 1459.62,-7.5 1643.07,-7.5 1643.07,-144.95\"/>\n<text text-anchor=\"start\" x=\"1481.22\" y=\"-94.05\" font-family=\"monospace\" font-size=\"14.00\">Samples: &#160;&#160;&#160;&#160;&#160;5</text>\n<text text-anchor=\"middle\" x=\"1551.35\" y=\"-79.05\" font-family=\"monospace\" font-size=\"14.00\">Score: &#160;&#160;&#160;&#160;&#160;&#160;&#160;1.0</text>\n<text text-anchor=\"start\" x=\"1481.22\" y=\"-48.05\" font-family=\"monospace\" font-size=\"14.00\">Malignant: 5 ✓</text>\n<text text-anchor=\"middle\" x=\"1551.35\" y=\"-30.8\" font-family=\"monospace\" font-size=\"14.00\"> </text>\n</g>\n<!-- Node #6 (Level 2)&#45;&gt;Node #12 (Level 3) -->\n<g id=\"edge12\" class=\"edge\">\n<title>Node #6 (Level 2)&#45;&gt;Node #12 (Level 3)</title>\n<path fill=\"none\" stroke=\"black\" stroke-width=\"1.46\" d=\"M1490.59,-205.1C1498.32,-188.82 1506.42,-171.78 1514.09,-155.65\"/>\n<polygon fill=\"black\" stroke=\"black\" stroke-width=\"1.46\" points=\"1517.24,-157.17 1518.37,-146.63 1510.92,-154.16 1517.24,-157.17\"/>\n<text text-anchor=\"middle\" x=\"1572.72\" y=\"-173.65\" font-family=\"Times,serif\" font-size=\"14.00\">mean texture ≥ area error</text>\n</g>\n</g>\n</svg>\n",
      "text/plain": "<graphviz.graphs.Digraph at 0x1263a3ef0>"
     },
     "execution_count": 44,
     "metadata": {},
     "output_type": "execute_result"
    }
   ],
   "source": [
    "loe.pool_classifiers_[3].generate_dot_graph(label_lookup={0: \"Begin\", 1: \"Malignant\"},\n",
    "                                            show_trace_of_sample=X_train.iloc[200])"
   ],
   "metadata": {
    "collapsed": false,
    "ExecuteTime": {
     "end_time": "2024-03-17T23:04:54.855349Z",
     "start_time": "2024-03-17T23:04:54.431893Z"
    }
   },
   "id": "d2f46e8c612b60e",
   "execution_count": 44
  },
  {
   "cell_type": "code",
   "outputs": [
    {
     "name": "stderr",
     "output_type": "stream",
     "text": [
      "/Users/ric.hard/Dropbox/dev/python_libs/libs/hdtree/src/split_rule.py:2229: FutureWarning: Series.__getitem__ treating keys as positions is deprecated. In a future version, integer keys will always be treated as labels (consistent with DataFrame behavior). To access a value by position, use `ser.iloc[pos]`\n",
      "  attr = sample[attr_idx]\n"
     ]
    },
    {
     "data": {
      "image/svg+xml": "<?xml version=\"1.0\" encoding=\"UTF-8\" standalone=\"no\"?>\n<!DOCTYPE svg PUBLIC \"-//W3C//DTD SVG 1.1//EN\"\n \"http://www.w3.org/Graphics/SVG/1.1/DTD/svg11.dtd\">\n<!-- Generated by graphviz version 9.0.0 (20230911.1827)\n -->\n<!-- Pages: 1 -->\n<svg width=\"497pt\" height=\"380pt\"\n viewBox=\"0.00 0.00 496.70 380.40\" xmlns=\"http://www.w3.org/2000/svg\" xmlns:xlink=\"http://www.w3.org/1999/xlink\">\n<g id=\"graph0\" class=\"graph\" transform=\"scale(1 1) rotate(0) translate(4 376.4)\">\n<polygon fill=\"white\" stroke=\"none\" points=\"-4,4 -4,-376.4 492.7,-376.4 492.7,4 -4,4\"/>\n<!-- Head (Level 0) -->\n<g id=\"node1\" class=\"node\">\n<title>Head (Level 0)</title>\n<polygon fill=\"#52ff52\" stroke=\"black\" stroke-width=\"10\" points=\"488.7,-372.4 0,-372.4 0,-204.95 488.7,-204.95 488.7,-372.4\"/>\n<text text-anchor=\"start\" x=\"21.6\" y=\"-321.5\" font-family=\"monospace\" font-size=\"14.00\">Samples: &#160;&#160;&#160;&#160;&#160;40</text>\n<text text-anchor=\"start\" x=\"21.6\" y=\"-306.5\" font-family=\"monospace\" font-size=\"14.00\">Score: &#160;&#160;&#160;&#160;&#160;&#160;&#160;0.68</text>\n<text text-anchor=\"middle\" x=\"244.35\" y=\"-291.5\" font-family=\"monospace\" font-size=\"14.00\">Test: worst concavity &lt; 0.23 (=Groups&#39; 2/10. Quantile)</text>\n<text text-anchor=\"start\" x=\"21.6\" y=\"-260.5\" font-family=\"monospace\" font-size=\"14.00\">Bengin: 8</text>\n<text text-anchor=\"start\" x=\"21.6\" y=\"-245.5\" font-family=\"monospace\" font-size=\"14.00\">Malignant: 32 ✓</text>\n<text text-anchor=\"middle\" x=\"244.35\" y=\"-228.25\" font-family=\"monospace\" font-size=\"14.00\"> </text>\n</g>\n<!-- Node #1 (Level 1) -->\n<g id=\"node2\" class=\"node\">\n<title>Node #1 (Level 1)</title>\n<polygon fill=\"#38ff38\" stroke=\"black\" stroke-width=\"2\" points=\"235.2,-152.45 43.5,-152.45 43.5,0 235.2,0 235.2,-152.45\"/>\n<text text-anchor=\"start\" x=\"65.1\" y=\"-101.55\" font-family=\"monospace\" font-size=\"14.00\">Samples: &#160;&#160;&#160;&#160;&#160;8</text>\n<text text-anchor=\"middle\" x=\"139.35\" y=\"-86.55\" font-family=\"monospace\" font-size=\"14.00\">Score: &#160;&#160;&#160;&#160;&#160;&#160;&#160;0.78</text>\n<text text-anchor=\"start\" x=\"65.1\" y=\"-55.55\" font-family=\"monospace\" font-size=\"14.00\">Bengin: 7 ✓</text>\n<text text-anchor=\"start\" x=\"65.1\" y=\"-38.3\" font-family=\"monospace\" font-size=\"14.00\">Malignant: 1</text>\n<text text-anchor=\"middle\" x=\"139.35\" y=\"-23.3\" font-family=\"monospace\" font-size=\"14.00\"> </text>\n</g>\n<!-- Head (Level 0)&#45;&gt;Node #1 (Level 1) -->\n<g id=\"edge1\" class=\"edge\">\n<title>Head (Level 0)&#45;&gt;Node #1 (Level 1)</title>\n<path fill=\"none\" stroke=\"black\" stroke-width=\"1.4\" d=\"M200.73,-200.25C194.78,-188.32 188.67,-176.08 182.72,-164.15\"/>\n<polygon fill=\"black\" stroke=\"black\" stroke-width=\"1.4\" points=\"185.85,-162.59 178.26,-155.21 179.59,-165.72 185.85,-162.59\"/>\n<text text-anchor=\"middle\" x=\"210.35\" y=\"-173.65\" font-family=\"Times,serif\" font-size=\"14.00\">&lt; 0.23</text>\n</g>\n<!-- Node #2 (Level 1) -->\n<g id=\"node3\" class=\"node\">\n<title>Node #2 (Level 1)</title>\n<polygon fill=\"#10ff10\" stroke=\"black\" stroke-width=\"8\" points=\"445.2,-152.45 253.5,-152.45 253.5,0 445.2,0 445.2,-152.45\"/>\n<polyline fill=\"none\" stroke=\"black\" stroke-width=\"8\" points=\"265.5,-152.45 253.5,-140.45\"/>\n<polyline fill=\"none\" stroke=\"black\" stroke-width=\"8\" points=\"253.5,-12 265.5,0\"/>\n<polyline fill=\"none\" stroke=\"black\" stroke-width=\"8\" points=\"433.2,0 445.2,-12\"/>\n<polyline fill=\"none\" stroke=\"black\" stroke-width=\"8\" points=\"445.2,-140.45 433.2,-152.45\"/>\n<text text-anchor=\"start\" x=\"275.1\" y=\"-101.55\" font-family=\"monospace\" font-size=\"14.00\">Samples: &#160;&#160;&#160;&#160;&#160;32</text>\n<text text-anchor=\"middle\" x=\"349.35\" y=\"-86.55\" font-family=\"monospace\" font-size=\"14.00\">Score: &#160;&#160;&#160;&#160;&#160;&#160;&#160;0.94</text>\n<text text-anchor=\"start\" x=\"275.1\" y=\"-55.55\" font-family=\"monospace\" font-size=\"14.00\">Bengin: 1</text>\n<text text-anchor=\"start\" x=\"275.1\" y=\"-40.55\" font-family=\"monospace\" font-size=\"14.00\">Malignant: 31 ✓</text>\n<text text-anchor=\"middle\" x=\"349.35\" y=\"-23.3\" font-family=\"monospace\" font-size=\"14.00\"> </text>\n</g>\n<!-- Head (Level 0)&#45;&gt;Node #2 (Level 1) -->\n<g id=\"edge2\" class=\"edge\">\n<title>Head (Level 0)&#45;&gt;Node #2 (Level 1)</title>\n<path fill=\"none\" stroke=\"black\" stroke-width=\"5.6\" d=\"M287.97,-200.25C292.85,-190.47 297.84,-180.47 302.76,-170.61\"/>\n<polygon fill=\"black\" stroke=\"black\" stroke-width=\"5.6\" points=\"306.97,-173.13 307.05,-162 298.21,-168.76 306.97,-173.13\"/>\n<text text-anchor=\"middle\" x=\"318.85\" y=\"-173.65\" font-family=\"Times,serif\" font-size=\"14.00\">≥ &#160;0.23</text>\n</g>\n</g>\n</svg>\n",
      "text/plain": "<graphviz.graphs.Digraph at 0x126271d60>"
     },
     "execution_count": 47,
     "metadata": {},
     "output_type": "execute_result"
    }
   ],
   "source": [
    "# will mark the leaves of the tree where the sample is going through\n",
    "loe.pool_classifiers_[2].generate_dot_graph(show_trace_of_sample=X_train.iloc[0],\n",
    "                                            label_lookup={0: \"Bengin\", 1: \"Malignant\"})"
   ],
   "metadata": {
    "collapsed": false,
    "ExecuteTime": {
     "end_time": "2024-03-17T23:05:13.764745Z",
     "start_time": "2024-03-17T23:05:13.531305Z"
    }
   },
   "id": "5eb5c01cd15b18e2",
   "execution_count": 47
  },
  {
   "cell_type": "code",
   "outputs": [
    {
     "data": {
      "image/svg+xml": "<?xml version=\"1.0\" encoding=\"UTF-8\" standalone=\"no\"?>\n<!DOCTYPE svg PUBLIC \"-//W3C//DTD SVG 1.1//EN\"\n \"http://www.w3.org/Graphics/SVG/1.1/DTD/svg11.dtd\">\n<!-- Generated by graphviz version 9.0.0 (20230911.1827)\n -->\n<!-- Pages: 1 -->\n<svg width=\"191pt\" height=\"145pt\"\n viewBox=\"0.00 0.00 191.45 145.45\" xmlns=\"http://www.w3.org/2000/svg\" xmlns:xlink=\"http://www.w3.org/1999/xlink\">\n<g id=\"graph0\" class=\"graph\" transform=\"scale(1 1) rotate(0) translate(4 141.45)\">\n<polygon fill=\"white\" stroke=\"none\" points=\"-4,4 -4,-141.45 187.45,-141.45 187.45,4 -4,4\"/>\n<!-- Head (Level 0) -->\n<g id=\"node1\" class=\"node\">\n<title>Head (Level 0)</title>\n<polygon fill=\"#00ff00\" stroke=\"black\" stroke-width=\"10\" points=\"183.45,-137.45 0,-137.45 0,0 183.45,0 183.45,-137.45\"/>\n<polyline fill=\"none\" stroke=\"black\" stroke-width=\"10\" points=\"12,-137.45 0,-125.45\"/>\n<polyline fill=\"none\" stroke=\"black\" stroke-width=\"10\" points=\"0,-12 12,0\"/>\n<polyline fill=\"none\" stroke=\"black\" stroke-width=\"10\" points=\"171.45,0 183.45,-12\"/>\n<polyline fill=\"none\" stroke=\"black\" stroke-width=\"10\" points=\"183.45,-125.45 171.45,-137.45\"/>\n<text text-anchor=\"start\" x=\"21.6\" y=\"-86.55\" font-family=\"monospace\" font-size=\"14.00\">Samples: &#160;&#160;&#160;&#160;&#160;85</text>\n<text text-anchor=\"middle\" x=\"91.72\" y=\"-71.55\" font-family=\"monospace\" font-size=\"14.00\">Score: &#160;&#160;&#160;&#160;&#160;&#160;&#160;1.0</text>\n<text text-anchor=\"start\" x=\"21.6\" y=\"-40.55\" font-family=\"monospace\" font-size=\"14.00\">Malignant: 85 ✓</text>\n<text text-anchor=\"middle\" x=\"91.72\" y=\"-23.3\" font-family=\"monospace\" font-size=\"14.00\"> </text>\n</g>\n</g>\n</svg>\n",
      "text/plain": "<graphviz.graphs.Digraph at 0x1263a1a00>"
     },
     "execution_count": 46,
     "metadata": {},
     "output_type": "execute_result"
    }
   ],
   "source": [
    "# be aware that this one has exactly 0 levels (as given by pool configuration). However it has still rules applied to it when generating the assignment function\n",
    "loe.pool_classifiers_[0].generate_dot_graph(label_lookup={0: \"Bengin\", 1: \"Malignant\"},\n",
    "                                            show_trace_of_sample=X_train.iloc[200])"
   ],
   "metadata": {
    "collapsed": false,
    "ExecuteTime": {
     "end_time": "2024-03-17T23:04:57.574074Z",
     "start_time": "2024-03-17T23:04:57.222922Z"
    }
   },
   "id": "d3c651f54563625a",
   "execution_count": 46
  }
 ],
 "metadata": {
  "kernelspec": {
   "display_name": "Python 3",
   "language": "python",
   "name": "python3"
  },
  "language_info": {
   "codemirror_mode": {
    "name": "ipython",
    "version": 2
   },
   "file_extension": ".py",
   "mimetype": "text/x-python",
   "name": "python",
   "nbconvert_exporter": "python",
   "pygments_lexer": "ipython2",
   "version": "2.7.6"
  }
 },
 "nbformat": 4,
 "nbformat_minor": 5
}
